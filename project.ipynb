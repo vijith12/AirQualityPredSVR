{
 "cells": [
  {
   "cell_type": "code",
   "execution_count": 1,
   "id": "6228266f",
   "metadata": {
    "execution": {
     "iopub.execute_input": "2022-03-31T11:19:13.013589Z",
     "iopub.status.busy": "2022-03-31T11:19:13.012911Z",
     "iopub.status.idle": "2022-03-31T11:19:14.502767Z",
     "shell.execute_reply": "2022-03-31T11:19:14.501981Z",
     "shell.execute_reply.started": "2022-03-31T11:10:50.191155Z"
    },
    "papermill": {
     "duration": 1.572637,
     "end_time": "2022-03-31T11:19:14.502931",
     "exception": false,
     "start_time": "2022-03-31T11:19:12.930294",
     "status": "completed"
    },
    "tags": []
   },
   "outputs": [],
   "source": [
    "import pandas as pd\n",
    "import numpy as np\n",
    "import seaborn as sns\n",
    "import matplotlib.pyplot as plt\n",
    "import warnings\n",
    "warnings.filterwarnings(\"ignore\")\n",
    "import math\n",
    "from sklearn.preprocessing import LabelEncoder\n",
    "from sklearn.model_selection import train_test_split\n",
    "from sklearn import metrics\n",
    "from sklearn.metrics import mean_absolute_error,mean_squared_error,r2_score\n",
    "from sklearn.metrics import accuracy_score,confusion_matrix"
   ]
  },
  {
   "cell_type": "code",
   "execution_count": 2,
   "id": "d0fa80c9",
   "metadata": {
    "execution": {
     "iopub.execute_input": "2022-03-31T11:19:14.664117Z",
     "iopub.status.busy": "2022-03-31T11:19:14.663452Z",
     "iopub.status.idle": "2022-03-31T11:19:16.599485Z",
     "shell.execute_reply": "2022-03-31T11:19:16.600008Z",
     "shell.execute_reply.started": "2022-03-31T11:10:51.535945Z"
    },
    "papermill": {
     "duration": 2.018932,
     "end_time": "2022-03-31T11:19:16.600192",
     "exception": false,
     "start_time": "2022-03-31T11:19:14.581260",
     "status": "completed"
    },
    "tags": []
   },
   "outputs": [],
   "source": [
    "df=pd.read_excel('AQI_data.xlsx')\n"
   ]
  },
  {
   "cell_type": "code",
   "execution_count": 3,
   "id": "6a9f2262",
   "metadata": {
    "execution": {
     "iopub.execute_input": "2022-03-31T11:19:16.923141Z",
     "iopub.status.busy": "2022-03-31T11:19:16.922105Z",
     "iopub.status.idle": "2022-03-31T11:19:16.943718Z",
     "shell.execute_reply": "2022-03-31T11:19:16.944253Z",
     "shell.execute_reply.started": "2022-03-31T11:10:53.174510Z"
    },
    "papermill": {
     "duration": 0.108817,
     "end_time": "2022-03-31T11:19:16.944429",
     "exception": false,
     "start_time": "2022-03-31T11:19:16.835612",
     "status": "completed"
    },
    "tags": []
   },
   "outputs": [
    {
     "data": {
      "text/html": [
       "<div>\n",
       "<style scoped>\n",
       "    .dataframe tbody tr th:only-of-type {\n",
       "        vertical-align: middle;\n",
       "    }\n",
       "\n",
       "    .dataframe tbody tr th {\n",
       "        vertical-align: top;\n",
       "    }\n",
       "\n",
       "    .dataframe thead th {\n",
       "        text-align: right;\n",
       "    }\n",
       "</style>\n",
       "<table border=\"1\" class=\"dataframe\">\n",
       "  <thead>\n",
       "    <tr style=\"text-align: right;\">\n",
       "      <th></th>\n",
       "      <th>City</th>\n",
       "      <th>Date</th>\n",
       "      <th>PM2.5</th>\n",
       "      <th>PM10</th>\n",
       "      <th>NO</th>\n",
       "      <th>NO2</th>\n",
       "      <th>NOx</th>\n",
       "      <th>NH3</th>\n",
       "      <th>CO</th>\n",
       "      <th>SO2</th>\n",
       "      <th>O3</th>\n",
       "      <th>Benzene</th>\n",
       "      <th>Toluene</th>\n",
       "      <th>Xylene</th>\n",
       "      <th>AQI</th>\n",
       "      <th>AQI_Bucket</th>\n",
       "    </tr>\n",
       "  </thead>\n",
       "  <tbody>\n",
       "    <tr>\n",
       "      <th>0</th>\n",
       "      <td>Delhi</td>\n",
       "      <td>2017-09-26</td>\n",
       "      <td>66.12</td>\n",
       "      <td>114.15</td>\n",
       "      <td>23.12</td>\n",
       "      <td>27.52</td>\n",
       "      <td>18.35</td>\n",
       "      <td>34.54</td>\n",
       "      <td>0.60</td>\n",
       "      <td>7.13</td>\n",
       "      <td>30.45</td>\n",
       "      <td>0.25</td>\n",
       "      <td>1.38</td>\n",
       "      <td>0.13</td>\n",
       "      <td>131</td>\n",
       "      <td>Moderate</td>\n",
       "    </tr>\n",
       "    <tr>\n",
       "      <th>1</th>\n",
       "      <td>Delhi</td>\n",
       "      <td>2017-09-27</td>\n",
       "      <td>80.94</td>\n",
       "      <td>125.39</td>\n",
       "      <td>26.98</td>\n",
       "      <td>21.39</td>\n",
       "      <td>22.31</td>\n",
       "      <td>50.34</td>\n",
       "      <td>0.61</td>\n",
       "      <td>6.62</td>\n",
       "      <td>29.26</td>\n",
       "      <td>0.35</td>\n",
       "      <td>1.74</td>\n",
       "      <td>0.12</td>\n",
       "      <td>165</td>\n",
       "      <td>Moderate</td>\n",
       "    </tr>\n",
       "    <tr>\n",
       "      <th>2</th>\n",
       "      <td>Delhi</td>\n",
       "      <td>2017-09-28</td>\n",
       "      <td>75.40</td>\n",
       "      <td>102.91</td>\n",
       "      <td>50.72</td>\n",
       "      <td>38.55</td>\n",
       "      <td>23.52</td>\n",
       "      <td>54.37</td>\n",
       "      <td>0.43</td>\n",
       "      <td>6.08</td>\n",
       "      <td>34.06</td>\n",
       "      <td>0.27</td>\n",
       "      <td>1.54</td>\n",
       "      <td>0.11</td>\n",
       "      <td>176</td>\n",
       "      <td>Moderate</td>\n",
       "    </tr>\n",
       "    <tr>\n",
       "      <th>3</th>\n",
       "      <td>Delhi</td>\n",
       "      <td>2017-09-29</td>\n",
       "      <td>89.38</td>\n",
       "      <td>140.94</td>\n",
       "      <td>37.45</td>\n",
       "      <td>29.45</td>\n",
       "      <td>18.61</td>\n",
       "      <td>41.19</td>\n",
       "      <td>0.45</td>\n",
       "      <td>7.17</td>\n",
       "      <td>40.26</td>\n",
       "      <td>0.44</td>\n",
       "      <td>1.82</td>\n",
       "      <td>0.13</td>\n",
       "      <td>172</td>\n",
       "      <td>Moderate</td>\n",
       "    </tr>\n",
       "    <tr>\n",
       "      <th>4</th>\n",
       "      <td>Delhi</td>\n",
       "      <td>2017-09-30</td>\n",
       "      <td>74.20</td>\n",
       "      <td>125.73</td>\n",
       "      <td>21.10</td>\n",
       "      <td>26.08</td>\n",
       "      <td>8.59</td>\n",
       "      <td>44.10</td>\n",
       "      <td>0.30</td>\n",
       "      <td>6.64</td>\n",
       "      <td>38.44</td>\n",
       "      <td>0.22</td>\n",
       "      <td>1.73</td>\n",
       "      <td>0.10</td>\n",
       "      <td>137</td>\n",
       "      <td>Moderate</td>\n",
       "    </tr>\n",
       "  </tbody>\n",
       "</table>\n",
       "</div>"
      ],
      "text/plain": [
       "    City       Date  PM2.5    PM10     NO    NO2    NOx    NH3    CO   SO2  \\\n",
       "0  Delhi 2017-09-26  66.12  114.15  23.12  27.52  18.35  34.54  0.60  7.13   \n",
       "1  Delhi 2017-09-27  80.94  125.39  26.98  21.39  22.31  50.34  0.61  6.62   \n",
       "2  Delhi 2017-09-28  75.40  102.91  50.72  38.55  23.52  54.37  0.43  6.08   \n",
       "3  Delhi 2017-09-29  89.38  140.94  37.45  29.45  18.61  41.19  0.45  7.17   \n",
       "4  Delhi 2017-09-30  74.20  125.73  21.10  26.08   8.59  44.10  0.30  6.64   \n",
       "\n",
       "      O3  Benzene  Toluene  Xylene  AQI AQI_Bucket  \n",
       "0  30.45     0.25     1.38    0.13  131   Moderate  \n",
       "1  29.26     0.35     1.74    0.12  165   Moderate  \n",
       "2  34.06     0.27     1.54    0.11  176   Moderate  \n",
       "3  40.26     0.44     1.82    0.13  172   Moderate  \n",
       "4  38.44     0.22     1.73    0.10  137   Moderate  "
      ]
     },
     "execution_count": 3,
     "metadata": {},
     "output_type": "execute_result"
    }
   ],
   "source": [
    "df.head()\n"
   ]
  },
  {
   "cell_type": "code",
   "execution_count": 4,
   "id": "65e9bb88",
   "metadata": {
    "execution": {
     "iopub.execute_input": "2022-03-31T11:19:17.110544Z",
     "iopub.status.busy": "2022-03-31T11:19:17.109627Z",
     "iopub.status.idle": "2022-03-31T11:19:17.113781Z",
     "shell.execute_reply": "2022-03-31T11:19:17.113135Z",
     "shell.execute_reply.started": "2022-03-31T11:10:53.202874Z"
    },
    "papermill": {
     "duration": 0.090433,
     "end_time": "2022-03-31T11:19:17.113923",
     "exception": false,
     "start_time": "2022-03-31T11:19:17.023490",
     "status": "completed"
    },
    "tags": []
   },
   "outputs": [
    {
     "name": "stdout",
     "output_type": "stream",
     "text": [
      "<class 'pandas.core.frame.DataFrame'>\n",
      "RangeIndex: 1010 entries, 0 to 1009\n",
      "Data columns (total 16 columns):\n",
      " #   Column      Non-Null Count  Dtype         \n",
      "---  ------      --------------  -----         \n",
      " 0   City        1010 non-null   object        \n",
      " 1   Date        1010 non-null   datetime64[ns]\n",
      " 2   PM2.5       1010 non-null   float64       \n",
      " 3   PM10        1010 non-null   float64       \n",
      " 4   NO          1010 non-null   float64       \n",
      " 5   NO2         1010 non-null   float64       \n",
      " 6   NOx         1010 non-null   float64       \n",
      " 7   NH3         1010 non-null   float64       \n",
      " 8   CO          1010 non-null   float64       \n",
      " 9   SO2         1010 non-null   float64       \n",
      " 10  O3          1010 non-null   float64       \n",
      " 11  Benzene     1010 non-null   float64       \n",
      " 12  Toluene     1010 non-null   float64       \n",
      " 13  Xylene      1010 non-null   float64       \n",
      " 14  AQI         1010 non-null   int64         \n",
      " 15  AQI_Bucket  1010 non-null   object        \n",
      "dtypes: datetime64[ns](1), float64(12), int64(1), object(2)\n",
      "memory usage: 126.4+ KB\n"
     ]
    }
   ],
   "source": [
    "df.shape\n",
    "df.info()"
   ]
  },
  {
   "cell_type": "code",
   "execution_count": 5,
   "id": "e6e8c6f7",
   "metadata": {
    "execution": {
     "iopub.execute_input": "2022-03-31T11:19:17.814351Z",
     "iopub.status.busy": "2022-03-31T11:19:17.813696Z",
     "iopub.status.idle": "2022-03-31T11:19:18.164034Z",
     "shell.execute_reply": "2022-03-31T11:19:18.163462Z",
     "shell.execute_reply.started": "2022-03-31T11:10:53.579825Z"
    },
    "papermill": {
     "duration": 0.43764,
     "end_time": "2022-03-31T11:19:18.164183",
     "exception": false,
     "start_time": "2022-03-31T11:19:17.726543",
     "status": "completed"
    },
    "tags": []
   },
   "outputs": [
    {
     "data": {
      "text/plain": [
       "City          0\n",
       "Date          0\n",
       "PM2.5         0\n",
       "PM10          0\n",
       "NO            0\n",
       "NO2           0\n",
       "NOx           0\n",
       "NH3           0\n",
       "CO            0\n",
       "SO2           0\n",
       "O3            0\n",
       "Benzene       0\n",
       "Toluene       0\n",
       "Xylene        0\n",
       "AQI           0\n",
       "AQI_Bucket    0\n",
       "dtype: int64"
      ]
     },
     "execution_count": 5,
     "metadata": {},
     "output_type": "execute_result"
    }
   ],
   "source": [
    "df.isnull().sum()\n"
   ]
  },
  {
   "cell_type": "code",
   "execution_count": 6,
   "id": "75492cf3",
   "metadata": {
    "execution": {
     "iopub.execute_input": "2022-03-31T11:19:18.584834Z",
     "iopub.status.busy": "2022-03-31T11:19:18.584190Z",
     "iopub.status.idle": "2022-03-31T11:19:18.952368Z",
     "shell.execute_reply": "2022-03-31T11:19:18.951864Z",
     "shell.execute_reply.started": "2022-03-31T11:10:54.019504Z"
    },
    "papermill": {
     "duration": 0.451122,
     "end_time": "2022-03-31T11:19:18.952541",
     "exception": false,
     "start_time": "2022-03-31T11:19:18.501419",
     "status": "completed"
    },
    "tags": []
   },
   "outputs": [
    {
     "data": {
      "text/plain": [
       "City             1\n",
       "Date          1010\n",
       "PM2.5          980\n",
       "PM10           996\n",
       "NO             922\n",
       "NO2            930\n",
       "NOx            952\n",
       "NH3            880\n",
       "CO             233\n",
       "SO2            760\n",
       "O3             916\n",
       "Benzene        517\n",
       "Toluene        922\n",
       "Xylene         281\n",
       "AQI            375\n",
       "AQI_Bucket       5\n",
       "dtype: int64"
      ]
     },
     "execution_count": 6,
     "metadata": {},
     "output_type": "execute_result"
    }
   ],
   "source": [
    "df.nunique()\n"
   ]
  },
  {
   "cell_type": "code",
   "execution_count": 7,
   "id": "2f0467ea",
   "metadata": {
    "execution": {
     "iopub.execute_input": "2022-03-31T11:19:58.465535Z",
     "iopub.status.busy": "2022-03-31T11:19:58.464839Z",
     "iopub.status.idle": "2022-03-31T11:19:58.470667Z",
     "shell.execute_reply": "2022-03-31T11:19:58.471120Z",
     "shell.execute_reply.started": "2022-03-31T11:11:33.090220Z"
    },
    "papermill": {
     "duration": 0.147965,
     "end_time": "2022-03-31T11:19:58.471291",
     "exception": false,
     "start_time": "2022-03-31T11:19:58.323326",
     "status": "completed"
    },
    "tags": []
   },
   "outputs": [
    {
     "data": {
      "text/plain": [
       "Moderate        344\n",
       "Poor            256\n",
       "Very Poor       214\n",
       "Satisfactory    103\n",
       "Severe           93\n",
       "Name: AQI_Bucket, dtype: int64"
      ]
     },
     "execution_count": 7,
     "metadata": {},
     "output_type": "execute_result"
    }
   ],
   "source": [
    "df['AQI_Bucket'].value_counts()\n"
   ]
  },
  {
   "cell_type": "code",
   "execution_count": 8,
   "id": "e05aa8af",
   "metadata": {
    "execution": {
     "iopub.execute_input": "2022-03-31T11:19:58.648240Z",
     "iopub.status.busy": "2022-03-31T11:19:58.647620Z",
     "iopub.status.idle": "2022-03-31T11:19:59.312599Z",
     "shell.execute_reply": "2022-03-31T11:19:59.313083Z",
     "shell.execute_reply.started": "2022-03-31T11:11:33.151717Z"
    },
    "papermill": {
     "duration": 0.754835,
     "end_time": "2022-03-31T11:19:59.313247",
     "exception": false,
     "start_time": "2022-03-31T11:19:58.558412",
     "status": "completed"
    },
    "tags": []
   },
   "outputs": [
    {
     "data": {
      "text/plain": [
       "[]"
      ]
     },
     "execution_count": 8,
     "metadata": {},
     "output_type": "execute_result"
    },
    {
     "data": {
      "image/png": "[encoded data removed]",
      "text/plain": [
       "<Figure size 720x720 with 1 Axes>"
      ]
     },
     "metadata": {
      "needs_background": "light"
     },
     "output_type": "display_data"
    }
   ],
   "source": [
    "plt.figure(figsize=(10, 10))\n",
    "plt.xticks(rotation=90)\n",
    "df.AQI_Bucket.hist()\n",
    "plt.xlabel('AQI_Bucket')\n",
    "plt.ylabel('Frequencies')\n",
    "plt.plot()\n"
   ]
  },
  {
   "cell_type": "code",
   "execution_count": 9,
   "id": "eb356420",
   "metadata": {
    "execution": {
     "iopub.execute_input": "2022-03-31T11:20:10.086537Z",
     "iopub.status.busy": "2022-03-31T11:20:10.085396Z",
     "iopub.status.idle": "2022-03-31T11:20:16.090582Z",
     "shell.execute_reply": "2022-03-31T11:20:16.091076Z",
     "shell.execute_reply.started": "2022-03-31T11:11:43.093646Z"
    },
    "papermill": {
     "duration": 6.12919,
     "end_time": "2022-03-31T11:20:16.091240",
     "exception": false,
     "start_time": "2022-03-31T11:20:09.962050",
     "status": "completed"
    },
    "tags": []
   },
   "outputs": [
    {
     "data": {
      "image/png": "[encoded data removed]",
      "text/plain": [
       "<Figure size 2160x720 with 1 Axes>"
      ]
     },
     "metadata": {
      "needs_background": "light"
     },
     "output_type": "display_data"
    }
   ],
   "source": [
    "plt.figure(figsize=(30, 10))\n",
    "plt.xticks(rotation=90)\n",
    "sns.barplot(x='City',y='SO2',data=df);\n"
   ]
  },
  {
   "cell_type": "code",
   "execution_count": 10,
   "id": "4f72a855",
   "metadata": {
    "execution": {
     "iopub.execute_input": "2022-03-31T11:20:16.297068Z",
     "iopub.status.busy": "2022-03-31T11:20:16.296035Z",
     "iopub.status.idle": "2022-03-31T11:20:16.820645Z",
     "shell.execute_reply": "2022-03-31T11:20:16.821150Z",
     "shell.execute_reply.started": "2022-03-31T11:11:49.183690Z"
    },
    "papermill": {
     "duration": 0.630876,
     "end_time": "2022-03-31T11:20:16.821318",
     "exception": false,
     "start_time": "2022-03-31T11:20:16.190442",
     "status": "completed"
    },
    "tags": []
   },
   "outputs": [
    {
     "data": {
      "image/png": "[encoded data removed]",
      "text/plain": [
       "<Figure size 432x288 with 1 Axes>"
      ]
     },
     "metadata": {
      "needs_background": "light"
     },
     "output_type": "display_data"
    }
   ],
   "source": [
    "df[['NO2','City']].groupby([\"City\"]).mean().sort_values(by='NO2').plot.bar(color='purple')\n",
    "plt.show()\n"
   ]
  },
  {
   "cell_type": "code",
   "execution_count": 11,
   "id": "ea403338",
   "metadata": {
    "execution": {
     "iopub.execute_input": "2022-03-31T11:20:17.130872Z",
     "iopub.status.busy": "2022-03-31T11:20:17.129938Z",
     "iopub.status.idle": "2022-03-31T11:20:22.825524Z",
     "shell.execute_reply": "2022-03-31T11:20:22.824979Z",
     "shell.execute_reply.started": "2022-03-31T11:11:49.734785Z"
    },
    "papermill": {
     "duration": 5.904287,
     "end_time": "2022-03-31T11:20:22.825686",
     "exception": false,
     "start_time": "2022-03-31T11:20:16.921399",
     "status": "completed"
    },
    "tags": []
   },
   "outputs": [
    {
     "data": {
      "image/png": "[encoded data removed]",
      "text/plain": [
       "<Figure size 2160x720 with 1 Axes>"
      ]
     },
     "metadata": {
      "needs_background": "light"
     },
     "output_type": "display_data"
    }
   ],
   "source": [
    "plt.figure(figsize=(30, 10))\n",
    "plt.xticks(rotation=90)\n",
    "sns.barplot(x='City',y='PM10',data=df);\n"
   ]
  },
  {
   "cell_type": "code",
   "execution_count": 12,
   "id": "d02a87ea",
   "metadata": {
    "execution": {
     "iopub.execute_input": "2022-03-31T11:20:23.057810Z",
     "iopub.status.busy": "2022-03-31T11:20:23.055621Z",
     "iopub.status.idle": "2022-03-31T11:20:26.782009Z",
     "shell.execute_reply": "2022-03-31T11:20:26.782553Z",
     "shell.execute_reply.started": "2022-03-31T11:11:55.563863Z"
    },
    "papermill": {
     "duration": 3.852673,
     "end_time": "2022-03-31T11:20:26.782728",
     "exception": false,
     "start_time": "2022-03-31T11:20:22.930055",
     "status": "completed"
    },
    "tags": []
   },
   "outputs": [
    {
     "data": {
      "image/png": "[encoded data removed]",
      "text/plain": [
       "<Figure size 2160x720 with 1 Axes>"
      ]
     },
     "metadata": {
      "needs_background": "light"
     },
     "output_type": "display_data"
    }
   ],
   "source": [
    "plt.figure(figsize=(30, 10))\n",
    "plt.xticks(rotation=90)\n",
    "sns.barplot(x='City',y='PM2.5',data=df);\n"
   ]
  },
  {
   "cell_type": "code",
   "execution_count": 13,
   "id": "c5a0b125",
   "metadata": {
    "execution": {
     "iopub.execute_input": "2022-03-31T11:20:28.726777Z",
     "iopub.status.busy": "2022-03-31T11:20:28.726121Z",
     "iopub.status.idle": "2022-03-31T11:20:29.070990Z",
     "shell.execute_reply": "2022-03-31T11:20:29.070383Z",
     "shell.execute_reply.started": "2022-03-31T11:12:00.668143Z"
    },
    "papermill": {
     "duration": 0.455563,
     "end_time": "2022-03-31T11:20:29.071133",
     "exception": false,
     "start_time": "2022-03-31T11:20:28.615570",
     "status": "completed"
    },
    "tags": []
   },
   "outputs": [
    {
     "data": {
      "text/plain": [
       "City          0\n",
       "Date          0\n",
       "PM2.5         0\n",
       "PM10          0\n",
       "NO            0\n",
       "NO2           0\n",
       "NOx           0\n",
       "NH3           0\n",
       "CO            0\n",
       "SO2           0\n",
       "O3            0\n",
       "Benzene       0\n",
       "Toluene       0\n",
       "Xylene        0\n",
       "AQI           0\n",
       "AQI_Bucket    0\n",
       "dtype: int64"
      ]
     },
     "execution_count": 13,
     "metadata": {},
     "output_type": "execute_result"
    }
   ],
   "source": [
    "nullvalues = df.isnull().sum().sort_values(ascending=False)\n",
    "nullvalues"
   ]
  },
  {
   "cell_type": "code",
   "execution_count": 14,
   "id": "74818a98",
   "metadata": {
    "execution": {
     "iopub.execute_input": "2022-03-31T11:20:30.897344Z",
     "iopub.status.busy": "2022-03-31T11:20:30.896654Z",
     "iopub.status.idle": "2022-03-31T11:20:31.032719Z",
     "shell.execute_reply": "2022-03-31T11:20:31.032103Z",
     "shell.execute_reply.started": "2022-03-31T11:12:01.738701Z"
    },
    "papermill": {
     "duration": 0.250703,
     "end_time": "2022-03-31T11:20:31.032904",
     "exception": false,
     "start_time": "2022-03-31T11:20:30.782201",
     "status": "completed"
    },
    "tags": []
   },
   "outputs": [],
   "source": [
    "df.drop(['Date'],axis=1,inplace=True)\n",
    "df.drop(['City'],axis=1,inplace=True)\n",
    "df.drop(['AQI_Bucket'],axis=1,inplace=True)\n",
    "\n"
   ]
  },
  {
   "cell_type": "code",
   "execution_count": 15,
   "id": "cc99121a",
   "metadata": {
    "execution": {
     "iopub.execute_input": "2022-03-31T11:20:31.388730Z",
     "iopub.status.busy": "2022-03-31T11:20:31.388062Z",
     "iopub.status.idle": "2022-03-31T11:20:31.400799Z",
     "shell.execute_reply": "2022-03-31T11:20:31.400216Z",
     "shell.execute_reply.started": "2022-03-31T11:12:01.879354Z"
    },
    "papermill": {
     "duration": 0.260407,
     "end_time": "2022-03-31T11:20:31.400942",
     "exception": false,
     "start_time": "2022-03-31T11:20:31.140535",
     "status": "completed"
    },
    "tags": []
   },
   "outputs": [
    {
     "data": {
      "text/plain": [
       "PM2.5      0\n",
       "PM10       0\n",
       "NO         0\n",
       "NO2        0\n",
       "NOx        0\n",
       "NH3        0\n",
       "CO         0\n",
       "SO2        0\n",
       "O3         0\n",
       "Benzene    0\n",
       "Toluene    0\n",
       "Xylene     0\n",
       "AQI        0\n",
       "dtype: int64"
      ]
     },
     "execution_count": 15,
     "metadata": {},
     "output_type": "execute_result"
    }
   ],
   "source": [
    "df.isnull().sum()\n"
   ]
  },
  {
   "cell_type": "code",
   "execution_count": 16,
   "id": "b36b779d",
   "metadata": {
    "execution": {
     "iopub.execute_input": "2022-03-31T11:20:31.642793Z",
     "iopub.status.busy": "2022-03-31T11:20:31.642080Z",
     "iopub.status.idle": "2022-03-31T11:20:31.646183Z",
     "shell.execute_reply": "2022-03-31T11:20:31.645663Z",
     "shell.execute_reply.started": "2022-03-31T11:12:02.035423Z"
    },
    "papermill": {
     "duration": 0.134615,
     "end_time": "2022-03-31T11:20:31.646318",
     "exception": false,
     "start_time": "2022-03-31T11:20:31.511703",
     "status": "completed"
    },
    "tags": []
   },
   "outputs": [
    {
     "data": {
      "text/html": [
       "<div>\n",
       "<style scoped>\n",
       "    .dataframe tbody tr th:only-of-type {\n",
       "        vertical-align: middle;\n",
       "    }\n",
       "\n",
       "    .dataframe tbody tr th {\n",
       "        vertical-align: top;\n",
       "    }\n",
       "\n",
       "    .dataframe thead th {\n",
       "        text-align: right;\n",
       "    }\n",
       "</style>\n",
       "<table border=\"1\" class=\"dataframe\">\n",
       "  <thead>\n",
       "    <tr style=\"text-align: right;\">\n",
       "      <th></th>\n",
       "      <th>PM2.5</th>\n",
       "      <th>PM10</th>\n",
       "      <th>NO</th>\n",
       "      <th>NO2</th>\n",
       "      <th>NOx</th>\n",
       "      <th>NH3</th>\n",
       "      <th>CO</th>\n",
       "      <th>SO2</th>\n",
       "      <th>O3</th>\n",
       "      <th>Benzene</th>\n",
       "      <th>Toluene</th>\n",
       "      <th>Xylene</th>\n",
       "      <th>AQI</th>\n",
       "    </tr>\n",
       "  </thead>\n",
       "  <tbody>\n",
       "    <tr>\n",
       "      <th>0</th>\n",
       "      <td>66.12</td>\n",
       "      <td>114.15</td>\n",
       "      <td>23.12</td>\n",
       "      <td>27.52</td>\n",
       "      <td>18.35</td>\n",
       "      <td>34.54</td>\n",
       "      <td>0.60</td>\n",
       "      <td>7.13</td>\n",
       "      <td>30.45</td>\n",
       "      <td>0.25</td>\n",
       "      <td>1.38</td>\n",
       "      <td>0.13</td>\n",
       "      <td>131</td>\n",
       "    </tr>\n",
       "    <tr>\n",
       "      <th>1</th>\n",
       "      <td>80.94</td>\n",
       "      <td>125.39</td>\n",
       "      <td>26.98</td>\n",
       "      <td>21.39</td>\n",
       "      <td>22.31</td>\n",
       "      <td>50.34</td>\n",
       "      <td>0.61</td>\n",
       "      <td>6.62</td>\n",
       "      <td>29.26</td>\n",
       "      <td>0.35</td>\n",
       "      <td>1.74</td>\n",
       "      <td>0.12</td>\n",
       "      <td>165</td>\n",
       "    </tr>\n",
       "    <tr>\n",
       "      <th>2</th>\n",
       "      <td>75.40</td>\n",
       "      <td>102.91</td>\n",
       "      <td>50.72</td>\n",
       "      <td>38.55</td>\n",
       "      <td>23.52</td>\n",
       "      <td>54.37</td>\n",
       "      <td>0.43</td>\n",
       "      <td>6.08</td>\n",
       "      <td>34.06</td>\n",
       "      <td>0.27</td>\n",
       "      <td>1.54</td>\n",
       "      <td>0.11</td>\n",
       "      <td>176</td>\n",
       "    </tr>\n",
       "    <tr>\n",
       "      <th>3</th>\n",
       "      <td>89.38</td>\n",
       "      <td>140.94</td>\n",
       "      <td>37.45</td>\n",
       "      <td>29.45</td>\n",
       "      <td>18.61</td>\n",
       "      <td>41.19</td>\n",
       "      <td>0.45</td>\n",
       "      <td>7.17</td>\n",
       "      <td>40.26</td>\n",
       "      <td>0.44</td>\n",
       "      <td>1.82</td>\n",
       "      <td>0.13</td>\n",
       "      <td>172</td>\n",
       "    </tr>\n",
       "    <tr>\n",
       "      <th>4</th>\n",
       "      <td>74.20</td>\n",
       "      <td>125.73</td>\n",
       "      <td>21.10</td>\n",
       "      <td>26.08</td>\n",
       "      <td>8.59</td>\n",
       "      <td>44.10</td>\n",
       "      <td>0.30</td>\n",
       "      <td>6.64</td>\n",
       "      <td>38.44</td>\n",
       "      <td>0.22</td>\n",
       "      <td>1.73</td>\n",
       "      <td>0.10</td>\n",
       "      <td>137</td>\n",
       "    </tr>\n",
       "    <tr>\n",
       "      <th>...</th>\n",
       "      <td>...</td>\n",
       "      <td>...</td>\n",
       "      <td>...</td>\n",
       "      <td>...</td>\n",
       "      <td>...</td>\n",
       "      <td>...</td>\n",
       "      <td>...</td>\n",
       "      <td>...</td>\n",
       "      <td>...</td>\n",
       "      <td>...</td>\n",
       "      <td>...</td>\n",
       "      <td>...</td>\n",
       "      <td>...</td>\n",
       "    </tr>\n",
       "    <tr>\n",
       "      <th>1005</th>\n",
       "      <td>39.80</td>\n",
       "      <td>155.94</td>\n",
       "      <td>10.88</td>\n",
       "      <td>21.46</td>\n",
       "      <td>22.47</td>\n",
       "      <td>31.43</td>\n",
       "      <td>0.87</td>\n",
       "      <td>10.38</td>\n",
       "      <td>18.88</td>\n",
       "      <td>1.69</td>\n",
       "      <td>19.99</td>\n",
       "      <td>0.43</td>\n",
       "      <td>112</td>\n",
       "    </tr>\n",
       "    <tr>\n",
       "      <th>1006</th>\n",
       "      <td>59.52</td>\n",
       "      <td>308.65</td>\n",
       "      <td>12.67</td>\n",
       "      <td>21.60</td>\n",
       "      <td>23.86</td>\n",
       "      <td>29.27</td>\n",
       "      <td>0.94</td>\n",
       "      <td>10.70</td>\n",
       "      <td>18.05</td>\n",
       "      <td>1.71</td>\n",
       "      <td>25.13</td>\n",
       "      <td>1.74</td>\n",
       "      <td>196</td>\n",
       "    </tr>\n",
       "    <tr>\n",
       "      <th>1007</th>\n",
       "      <td>44.86</td>\n",
       "      <td>184.12</td>\n",
       "      <td>10.50</td>\n",
       "      <td>21.57</td>\n",
       "      <td>21.94</td>\n",
       "      <td>27.97</td>\n",
       "      <td>0.88</td>\n",
       "      <td>11.58</td>\n",
       "      <td>26.61</td>\n",
       "      <td>2.13</td>\n",
       "      <td>23.80</td>\n",
       "      <td>1.13</td>\n",
       "      <td>233</td>\n",
       "    </tr>\n",
       "    <tr>\n",
       "      <th>1008</th>\n",
       "      <td>39.80</td>\n",
       "      <td>91.98</td>\n",
       "      <td>5.99</td>\n",
       "      <td>17.96</td>\n",
       "      <td>15.44</td>\n",
       "      <td>28.48</td>\n",
       "      <td>0.84</td>\n",
       "      <td>10.51</td>\n",
       "      <td>37.29</td>\n",
       "      <td>1.57</td>\n",
       "      <td>16.37</td>\n",
       "      <td>0.49</td>\n",
       "      <td>114</td>\n",
       "    </tr>\n",
       "    <tr>\n",
       "      <th>1009</th>\n",
       "      <td>54.01</td>\n",
       "      <td>128.66</td>\n",
       "      <td>6.33</td>\n",
       "      <td>21.05</td>\n",
       "      <td>16.81</td>\n",
       "      <td>29.06</td>\n",
       "      <td>0.97</td>\n",
       "      <td>11.15</td>\n",
       "      <td>29.73</td>\n",
       "      <td>2.03</td>\n",
       "      <td>23.57</td>\n",
       "      <td>0.65</td>\n",
       "      <td>101</td>\n",
       "    </tr>\n",
       "  </tbody>\n",
       "</table>\n",
       "<p>1010 rows × 13 columns</p>\n",
       "</div>"
      ],
      "text/plain": [
       "      PM2.5    PM10     NO    NO2    NOx    NH3    CO    SO2     O3  Benzene  \\\n",
       "0     66.12  114.15  23.12  27.52  18.35  34.54  0.60   7.13  30.45     0.25   \n",
       "1     80.94  125.39  26.98  21.39  22.31  50.34  0.61   6.62  29.26     0.35   \n",
       "2     75.40  102.91  50.72  38.55  23.52  54.37  0.43   6.08  34.06     0.27   \n",
       "3     89.38  140.94  37.45  29.45  18.61  41.19  0.45   7.17  40.26     0.44   \n",
       "4     74.20  125.73  21.10  26.08   8.59  44.10  0.30   6.64  38.44     0.22   \n",
       "...     ...     ...    ...    ...    ...    ...   ...    ...    ...      ...   \n",
       "1005  39.80  155.94  10.88  21.46  22.47  31.43  0.87  10.38  18.88     1.69   \n",
       "1006  59.52  308.65  12.67  21.60  23.86  29.27  0.94  10.70  18.05     1.71   \n",
       "1007  44.86  184.12  10.50  21.57  21.94  27.97  0.88  11.58  26.61     2.13   \n",
       "1008  39.80   91.98   5.99  17.96  15.44  28.48  0.84  10.51  37.29     1.57   \n",
       "1009  54.01  128.66   6.33  21.05  16.81  29.06  0.97  11.15  29.73     2.03   \n",
       "\n",
       "      Toluene  Xylene  AQI  \n",
       "0        1.38    0.13  131  \n",
       "1        1.74    0.12  165  \n",
       "2        1.54    0.11  176  \n",
       "3        1.82    0.13  172  \n",
       "4        1.73    0.10  137  \n",
       "...       ...     ...  ...  \n",
       "1005    19.99    0.43  112  \n",
       "1006    25.13    1.74  196  \n",
       "1007    23.80    1.13  233  \n",
       "1008    16.37    0.49  114  \n",
       "1009    23.57    0.65  101  \n",
       "\n",
       "[1010 rows x 13 columns]"
      ]
     },
     "execution_count": 16,
     "metadata": {},
     "output_type": "execute_result"
    }
   ],
   "source": [
    "df"
   ]
  },
  {
   "cell_type": "code",
   "execution_count": 17,
   "id": "bd52df94",
   "metadata": {
    "execution": {
     "iopub.execute_input": "2022-03-31T11:20:32.458217Z",
     "iopub.status.busy": "2022-03-31T11:20:32.457314Z",
     "iopub.status.idle": "2022-03-31T11:20:32.467612Z",
     "shell.execute_reply": "2022-03-31T11:20:32.467060Z",
     "shell.execute_reply.started": "2022-03-31T11:12:02.286854Z"
    },
    "papermill": {
     "duration": 0.260494,
     "end_time": "2022-03-31T11:20:32.467763",
     "exception": false,
     "start_time": "2022-03-31T11:20:32.207269",
     "status": "completed"
    },
    "tags": []
   },
   "outputs": [
    {
     "data": {
      "text/plain": [
       "PM2.5      0\n",
       "PM10       0\n",
       "NO         0\n",
       "NO2        0\n",
       "NOx        0\n",
       "NH3        0\n",
       "CO         0\n",
       "SO2        0\n",
       "O3         0\n",
       "Benzene    0\n",
       "Toluene    0\n",
       "Xylene     0\n",
       "AQI        0\n",
       "dtype: int64"
      ]
     },
     "execution_count": 17,
     "metadata": {},
     "output_type": "execute_result"
    }
   ],
   "source": [
    "df.isnull().sum()"
   ]
  },
  {
   "cell_type": "code",
   "execution_count": 18,
   "id": "32a1ea25",
   "metadata": {
    "execution": {
     "iopub.execute_input": "2022-03-31T11:20:33.087341Z",
     "iopub.status.busy": "2022-03-31T11:20:33.080390Z",
     "iopub.status.idle": "2022-03-31T11:20:33.091950Z",
     "shell.execute_reply": "2022-03-31T11:20:33.091276Z",
     "shell.execute_reply.started": "2022-03-31T11:12:02.586742Z"
    },
    "papermill": {
     "duration": 0.138426,
     "end_time": "2022-03-31T11:20:33.092113",
     "exception": false,
     "start_time": "2022-03-31T11:20:32.953687",
     "status": "completed"
    },
    "tags": []
   },
   "outputs": [
    {
     "data": {
      "text/html": [
       "<div>\n",
       "<style scoped>\n",
       "    .dataframe tbody tr th:only-of-type {\n",
       "        vertical-align: middle;\n",
       "    }\n",
       "\n",
       "    .dataframe tbody tr th {\n",
       "        vertical-align: top;\n",
       "    }\n",
       "\n",
       "    .dataframe thead th {\n",
       "        text-align: right;\n",
       "    }\n",
       "</style>\n",
       "<table border=\"1\" class=\"dataframe\">\n",
       "  <thead>\n",
       "    <tr style=\"text-align: right;\">\n",
       "      <th></th>\n",
       "      <th>PM2.5</th>\n",
       "      <th>PM10</th>\n",
       "      <th>NO</th>\n",
       "      <th>NO2</th>\n",
       "      <th>NOx</th>\n",
       "      <th>NH3</th>\n",
       "      <th>CO</th>\n",
       "      <th>SO2</th>\n",
       "      <th>O3</th>\n",
       "      <th>Benzene</th>\n",
       "      <th>Toluene</th>\n",
       "      <th>Xylene</th>\n",
       "      <th>AQI</th>\n",
       "    </tr>\n",
       "  </thead>\n",
       "  <tbody>\n",
       "    <tr>\n",
       "      <th>0</th>\n",
       "      <td>66.12</td>\n",
       "      <td>114.15</td>\n",
       "      <td>23.12</td>\n",
       "      <td>27.52</td>\n",
       "      <td>18.35</td>\n",
       "      <td>34.54</td>\n",
       "      <td>0.60</td>\n",
       "      <td>7.13</td>\n",
       "      <td>30.45</td>\n",
       "      <td>0.25</td>\n",
       "      <td>1.38</td>\n",
       "      <td>0.13</td>\n",
       "      <td>131</td>\n",
       "    </tr>\n",
       "    <tr>\n",
       "      <th>1</th>\n",
       "      <td>80.94</td>\n",
       "      <td>125.39</td>\n",
       "      <td>26.98</td>\n",
       "      <td>21.39</td>\n",
       "      <td>22.31</td>\n",
       "      <td>50.34</td>\n",
       "      <td>0.61</td>\n",
       "      <td>6.62</td>\n",
       "      <td>29.26</td>\n",
       "      <td>0.35</td>\n",
       "      <td>1.74</td>\n",
       "      <td>0.12</td>\n",
       "      <td>165</td>\n",
       "    </tr>\n",
       "    <tr>\n",
       "      <th>2</th>\n",
       "      <td>75.40</td>\n",
       "      <td>102.91</td>\n",
       "      <td>50.72</td>\n",
       "      <td>38.55</td>\n",
       "      <td>23.52</td>\n",
       "      <td>54.37</td>\n",
       "      <td>0.43</td>\n",
       "      <td>6.08</td>\n",
       "      <td>34.06</td>\n",
       "      <td>0.27</td>\n",
       "      <td>1.54</td>\n",
       "      <td>0.11</td>\n",
       "      <td>176</td>\n",
       "    </tr>\n",
       "    <tr>\n",
       "      <th>3</th>\n",
       "      <td>89.38</td>\n",
       "      <td>140.94</td>\n",
       "      <td>37.45</td>\n",
       "      <td>29.45</td>\n",
       "      <td>18.61</td>\n",
       "      <td>41.19</td>\n",
       "      <td>0.45</td>\n",
       "      <td>7.17</td>\n",
       "      <td>40.26</td>\n",
       "      <td>0.44</td>\n",
       "      <td>1.82</td>\n",
       "      <td>0.13</td>\n",
       "      <td>172</td>\n",
       "    </tr>\n",
       "    <tr>\n",
       "      <th>4</th>\n",
       "      <td>74.20</td>\n",
       "      <td>125.73</td>\n",
       "      <td>21.10</td>\n",
       "      <td>26.08</td>\n",
       "      <td>8.59</td>\n",
       "      <td>44.10</td>\n",
       "      <td>0.30</td>\n",
       "      <td>6.64</td>\n",
       "      <td>38.44</td>\n",
       "      <td>0.22</td>\n",
       "      <td>1.73</td>\n",
       "      <td>0.10</td>\n",
       "      <td>137</td>\n",
       "    </tr>\n",
       "    <tr>\n",
       "      <th>...</th>\n",
       "      <td>...</td>\n",
       "      <td>...</td>\n",
       "      <td>...</td>\n",
       "      <td>...</td>\n",
       "      <td>...</td>\n",
       "      <td>...</td>\n",
       "      <td>...</td>\n",
       "      <td>...</td>\n",
       "      <td>...</td>\n",
       "      <td>...</td>\n",
       "      <td>...</td>\n",
       "      <td>...</td>\n",
       "      <td>...</td>\n",
       "    </tr>\n",
       "    <tr>\n",
       "      <th>1005</th>\n",
       "      <td>39.80</td>\n",
       "      <td>155.94</td>\n",
       "      <td>10.88</td>\n",
       "      <td>21.46</td>\n",
       "      <td>22.47</td>\n",
       "      <td>31.43</td>\n",
       "      <td>0.87</td>\n",
       "      <td>10.38</td>\n",
       "      <td>18.88</td>\n",
       "      <td>1.69</td>\n",
       "      <td>19.99</td>\n",
       "      <td>0.43</td>\n",
       "      <td>112</td>\n",
       "    </tr>\n",
       "    <tr>\n",
       "      <th>1006</th>\n",
       "      <td>59.52</td>\n",
       "      <td>308.65</td>\n",
       "      <td>12.67</td>\n",
       "      <td>21.60</td>\n",
       "      <td>23.86</td>\n",
       "      <td>29.27</td>\n",
       "      <td>0.94</td>\n",
       "      <td>10.70</td>\n",
       "      <td>18.05</td>\n",
       "      <td>1.71</td>\n",
       "      <td>25.13</td>\n",
       "      <td>1.74</td>\n",
       "      <td>196</td>\n",
       "    </tr>\n",
       "    <tr>\n",
       "      <th>1007</th>\n",
       "      <td>44.86</td>\n",
       "      <td>184.12</td>\n",
       "      <td>10.50</td>\n",
       "      <td>21.57</td>\n",
       "      <td>21.94</td>\n",
       "      <td>27.97</td>\n",
       "      <td>0.88</td>\n",
       "      <td>11.58</td>\n",
       "      <td>26.61</td>\n",
       "      <td>2.13</td>\n",
       "      <td>23.80</td>\n",
       "      <td>1.13</td>\n",
       "      <td>233</td>\n",
       "    </tr>\n",
       "    <tr>\n",
       "      <th>1008</th>\n",
       "      <td>39.80</td>\n",
       "      <td>91.98</td>\n",
       "      <td>5.99</td>\n",
       "      <td>17.96</td>\n",
       "      <td>15.44</td>\n",
       "      <td>28.48</td>\n",
       "      <td>0.84</td>\n",
       "      <td>10.51</td>\n",
       "      <td>37.29</td>\n",
       "      <td>1.57</td>\n",
       "      <td>16.37</td>\n",
       "      <td>0.49</td>\n",
       "      <td>114</td>\n",
       "    </tr>\n",
       "    <tr>\n",
       "      <th>1009</th>\n",
       "      <td>54.01</td>\n",
       "      <td>128.66</td>\n",
       "      <td>6.33</td>\n",
       "      <td>21.05</td>\n",
       "      <td>16.81</td>\n",
       "      <td>29.06</td>\n",
       "      <td>0.97</td>\n",
       "      <td>11.15</td>\n",
       "      <td>29.73</td>\n",
       "      <td>2.03</td>\n",
       "      <td>23.57</td>\n",
       "      <td>0.65</td>\n",
       "      <td>101</td>\n",
       "    </tr>\n",
       "  </tbody>\n",
       "</table>\n",
       "<p>1010 rows × 13 columns</p>\n",
       "</div>"
      ],
      "text/plain": [
       "      PM2.5    PM10     NO    NO2    NOx    NH3    CO    SO2     O3  Benzene  \\\n",
       "0     66.12  114.15  23.12  27.52  18.35  34.54  0.60   7.13  30.45     0.25   \n",
       "1     80.94  125.39  26.98  21.39  22.31  50.34  0.61   6.62  29.26     0.35   \n",
       "2     75.40  102.91  50.72  38.55  23.52  54.37  0.43   6.08  34.06     0.27   \n",
       "3     89.38  140.94  37.45  29.45  18.61  41.19  0.45   7.17  40.26     0.44   \n",
       "4     74.20  125.73  21.10  26.08   8.59  44.10  0.30   6.64  38.44     0.22   \n",
       "...     ...     ...    ...    ...    ...    ...   ...    ...    ...      ...   \n",
       "1005  39.80  155.94  10.88  21.46  22.47  31.43  0.87  10.38  18.88     1.69   \n",
       "1006  59.52  308.65  12.67  21.60  23.86  29.27  0.94  10.70  18.05     1.71   \n",
       "1007  44.86  184.12  10.50  21.57  21.94  27.97  0.88  11.58  26.61     2.13   \n",
       "1008  39.80   91.98   5.99  17.96  15.44  28.48  0.84  10.51  37.29     1.57   \n",
       "1009  54.01  128.66   6.33  21.05  16.81  29.06  0.97  11.15  29.73     2.03   \n",
       "\n",
       "      Toluene  Xylene  AQI  \n",
       "0        1.38    0.13  131  \n",
       "1        1.74    0.12  165  \n",
       "2        1.54    0.11  176  \n",
       "3        1.82    0.13  172  \n",
       "4        1.73    0.10  137  \n",
       "...       ...     ...  ...  \n",
       "1005    19.99    0.43  112  \n",
       "1006    25.13    1.74  196  \n",
       "1007    23.80    1.13  233  \n",
       "1008    16.37    0.49  114  \n",
       "1009    23.57    0.65  101  \n",
       "\n",
       "[1010 rows x 13 columns]"
      ]
     },
     "execution_count": 18,
     "metadata": {},
     "output_type": "execute_result"
    }
   ],
   "source": [
    "df\n"
   ]
  },
  {
   "cell_type": "code",
   "execution_count": 19,
   "id": "7f362d17",
   "metadata": {},
   "outputs": [],
   "source": [
    "from sklearn.svm import SVR\n",
    "\n",
    "data = df\n",
    "\n",
    "x = data.iloc[:, 0:12].values \n",
    "y = data.iloc[:, 12].values\n"
   ]
  },
  {
   "cell_type": "code",
   "execution_count": 20,
   "id": "743a7253",
   "metadata": {},
   "outputs": [
    {
     "data": {
      "text/html": [
       "<style>#sk-container-id-1 {color: black;background-color: white;}#sk-container-id-1 pre{padding: 0;}#sk-container-id-1 div.sk-toggleable {background-color: white;}#sk-container-id-1 label.sk-toggleable__label {cursor: pointer;display: block;width: 100%;margin-bottom: 0;padding: 0.3em;box-sizing: border-box;text-align: center;}#sk-container-id-1 label.sk-toggleable__label-arrow:before {content: \"▸\";float: left;margin-right: 0.25em;color: #696969;}#sk-container-id-1 label.sk-toggleable__label-arrow:hover:before {color: black;}#sk-container-id-1 div.sk-estimator:hover label.sk-toggleable__label-arrow:before {color: black;}#sk-container-id-1 div.sk-toggleable__content {max-height: 0;max-width: 0;overflow: hidden;text-align: left;background-color: #f0f8ff;}#sk-container-id-1 div.sk-toggleable__content pre {margin: 0.2em;color: black;border-radius: 0.25em;background-color: #f0f8ff;}#sk-container-id-1 input.sk-toggleable__control:checked~div.sk-toggleable__content {max-height: 200px;max-width: 100%;overflow: auto;}#sk-container-id-1 input.sk-toggleable__control:checked~label.sk-toggleable__label-arrow:before {content: \"▾\";}#sk-container-id-1 div.sk-estimator input.sk-toggleable__control:checked~label.sk-toggleable__label {background-color: #d4ebff;}#sk-container-id-1 div.sk-label input.sk-toggleable__control:checked~label.sk-toggleable__label {background-color: #d4ebff;}#sk-container-id-1 input.sk-hidden--visually {border: 0;clip: rect(1px 1px 1px 1px);clip: rect(1px, 1px, 1px, 1px);height: 1px;margin: -1px;overflow: hidden;padding: 0;position: absolute;width: 1px;}#sk-container-id-1 div.sk-estimator {font-family: monospace;background-color: #f0f8ff;border: 1px dotted black;border-radius: 0.25em;box-sizing: border-box;margin-bottom: 0.5em;}#sk-container-id-1 div.sk-estimator:hover {background-color: #d4ebff;}#sk-container-id-1 div.sk-parallel-item::after {content: \"\";width: 100%;border-bottom: 1px solid gray;flex-grow: 1;}#sk-container-id-1 div.sk-label:hover label.sk-toggleable__label {background-color: #d4ebff;}#sk-container-id-1 div.sk-serial::before {content: \"\";position: absolute;border-left: 1px solid gray;box-sizing: border-box;top: 0;bottom: 0;left: 50%;z-index: 0;}#sk-container-id-1 div.sk-serial {display: flex;flex-direction: column;align-items: center;background-color: white;padding-right: 0.2em;padding-left: 0.2em;position: relative;}#sk-container-id-1 div.sk-item {position: relative;z-index: 1;}#sk-container-id-1 div.sk-parallel {display: flex;align-items: stretch;justify-content: center;background-color: white;position: relative;}#sk-container-id-1 div.sk-item::before, #sk-container-id-1 div.sk-parallel-item::before {content: \"\";position: absolute;border-left: 1px solid gray;box-sizing: border-box;top: 0;bottom: 0;left: 50%;z-index: -1;}#sk-container-id-1 div.sk-parallel-item {display: flex;flex-direction: column;z-index: 1;position: relative;background-color: white;}#sk-container-id-1 div.sk-parallel-item:first-child::after {align-self: flex-end;width: 50%;}#sk-container-id-1 div.sk-parallel-item:last-child::after {align-self: flex-start;width: 50%;}#sk-container-id-1 div.sk-parallel-item:only-child::after {width: 0;}#sk-container-id-1 div.sk-dashed-wrapped {border: 1px dashed gray;margin: 0 0.4em 0.5em 0.4em;box-sizing: border-box;padding-bottom: 0.4em;background-color: white;}#sk-container-id-1 div.sk-label label {font-family: monospace;font-weight: bold;display: inline-block;line-height: 1.2em;}#sk-container-id-1 div.sk-label-container {text-align: center;}#sk-container-id-1 div.sk-container {/* jupyter's `normalize.less` sets `[hidden] { display: none; }` but bootstrap.min.css set `[hidden] { display: none !important; }` so we also need the `!important` here to be able to override the default hidden behavior on the sphinx rendered scikit-learn.org. See: https://github.com/scikit-learn/scikit-learn/issues/21755 */display: inline-block !important;position: relative;}#sk-container-id-1 div.sk-text-repr-fallback {display: none;}</style><div id=\"sk-container-id-1\" class=\"sk-top-container\"><div class=\"sk-text-repr-fallback\"><pre>SVR(kernel=&#x27;linear&#x27;)</pre><b>In a Jupyter environment, please rerun this cell to show the HTML representation or trust the notebook. <br />On GitHub, the HTML representation is unable to render, please try loading this page with nbviewer.org.</b></div><div class=\"sk-container\" hidden><div class=\"sk-item\"><div class=\"sk-estimator sk-toggleable\"><input class=\"sk-toggleable__control sk-hidden--visually\" id=\"sk-estimator-id-1\" type=\"checkbox\" checked><label for=\"sk-estimator-id-1\" class=\"sk-toggleable__label sk-toggleable__label-arrow\">SVR</label><div class=\"sk-toggleable__content\"><pre>SVR(kernel=&#x27;linear&#x27;)</pre></div></div></div></div></div>"
      ],
      "text/plain": [
       "SVR(kernel='linear')"
      ]
     },
     "execution_count": 20,
     "metadata": {},
     "output_type": "execute_result"
    }
   ],
   "source": [
    "x_train, x_test, y_train, y_test = train_test_split(x, y, test_size = 0.2, random_state = 2)\n",
    "model = SVR(kernel='linear')\n",
    "\n",
    "# Fitting the SVR model to the data\n",
    "model.fit(x_train, y_train)"
   ]
  },
  {
   "cell_type": "code",
   "execution_count": 21,
   "id": "9324b704",
   "metadata": {},
   "outputs": [],
   "source": [
    "# Predicting the target values of the test set\n",
    "y_pred = model.predict(x_test)\n",
    "\n"
   ]
  },
  {
   "cell_type": "code",
   "execution_count": 22,
   "id": "ed6fbdbc",
   "metadata": {},
   "outputs": [],
   "source": [
    "y_pred = model.predict(x_test)"
   ]
  },
  {
   "cell_type": "code",
   "execution_count": 23,
   "id": "be596014",
   "metadata": {},
   "outputs": [
    {
     "data": {
      "text/plain": [
       "array([254.34049052, 135.2468277 , 128.67692538,  99.96754501,\n",
       "        94.90978168,  91.54681641, 207.61174344, 293.04679239,\n",
       "       156.16018465, 104.99821882, 222.71599521, 161.37404059,\n",
       "       168.6692554 , 171.32152788, 148.72266767, 208.62014392,\n",
       "        71.55733374, 453.43738368, 229.42150857, 213.95463635,\n",
       "       282.51459764, 240.49291197, 320.66625976,  88.57416017,\n",
       "       132.47135591, 254.58152449, 200.29235532, 101.16938805,\n",
       "       223.78312642, 179.65344498, 118.54193586, 154.2663058 ,\n",
       "       119.11415874, 202.64853399, 273.93835624, 171.71506365,\n",
       "        90.9489751 , 159.19359897, 379.60401127, 170.87255693,\n",
       "       176.8914607 , 199.5482164 , 137.6623463 , 129.49497899,\n",
       "       281.81306914, 245.79135217, 176.0732267 , 337.12307965,\n",
       "       385.60955139, 410.10617   , 433.08860025, 268.61023455,\n",
       "       270.85302092, 135.36091971, 180.33782675, 228.48495481,\n",
       "       192.91904623, 139.92380894, 385.62221429, 198.03708044,\n",
       "       161.76630974, 401.75814426, 265.48876069, 364.51866211,\n",
       "       118.61737466,  95.88668254, 195.60362136, 133.46629652,\n",
       "       109.49190779, 265.84185284, 124.03471434, 531.78656285,\n",
       "       186.15051159, 197.13366927, 265.26256558, 235.34924931,\n",
       "       161.62745955, 131.03126807, 228.50885293, 122.38469154,\n",
       "       181.46300774, 173.32405522, 176.59437144, 373.6709236 ,\n",
       "        95.52163709, 185.61611697, 282.26373272, 103.5086919 ,\n",
       "       327.22224409, 116.57631198, 526.69537524, 113.45689158,\n",
       "       107.33616806, 317.52434216, 354.61672687,  97.96946145,\n",
       "       403.96421412, 104.48096278, 118.22705731, 256.85942699,\n",
       "       348.33113953, 233.80930506,  80.94019208, 330.93468032,\n",
       "       204.34032625, 235.82839178, 358.5624564 , 215.72258938,\n",
       "       201.66680741, 157.6977905 , 110.85503154, 165.43421102,\n",
       "       159.32274808, 422.27203639, 171.43927469, 129.04058668,\n",
       "       243.88307834, 293.55533736,  96.1067007 , 388.2000771 ,\n",
       "       149.27920014, 360.64958373, 135.76052124, 132.42963704,\n",
       "       440.10682917, 295.22951449, 152.06391906, 102.77485459,\n",
       "       112.14445065, 278.50009355, 102.21995543, 197.45772658,\n",
       "       143.11856865, 240.13553247,  87.5874372 , 100.69100624,\n",
       "       139.81996729, 399.68030838, 117.86932409, 337.7810793 ,\n",
       "       355.55064557, 334.09614127, 233.16299453, 427.50352266,\n",
       "       361.54502319, 464.88511591, 153.89479363, 413.06637827,\n",
       "       392.69847538,  88.64671438, 110.97249391,  55.76747593,\n",
       "       146.53015423, 206.00675244, 194.84189222, 434.52543145,\n",
       "       241.18880787, 391.50702822, 240.10413724, 296.00040163,\n",
       "       217.61219664, 124.76957962, 305.39790597, 186.33362073,\n",
       "       256.55728891, 133.96687098, 301.73540197, 167.14090587,\n",
       "       109.68702769, 125.3504138 , 419.05085477, 208.07469575,\n",
       "       352.3003737 , 161.66568963, 186.08268768, 187.73939948,\n",
       "       250.04356144, 234.0140465 , 100.78725043, 306.07393841,\n",
       "       169.58266752, 106.90766898, 392.17853105, 190.90160346,\n",
       "        89.86651524, 422.94062776, 351.4937659 , 357.94690542,\n",
       "       104.8641842 , 189.45010266, 316.86314076,  83.04793448,\n",
       "       108.98675682, 346.96706312, 302.72760596, 211.31074924,\n",
       "       234.83946309, 105.1677289 , 199.28547313, 169.44751767,\n",
       "       130.38875632, 458.45913024])"
      ]
     },
     "execution_count": 23,
     "metadata": {},
     "output_type": "execute_result"
    }
   ],
   "source": [
    "y_pred"
   ]
  },
  {
   "cell_type": "code",
   "execution_count": 24,
   "id": "2b7f1e3f",
   "metadata": {},
   "outputs": [
    {
     "data": {
      "text/plain": [
       "[<matplotlib.lines.Line2D at 0x1b9c175ba30>]"
      ]
     },
     "execution_count": 24,
     "metadata": {},
     "output_type": "execute_result"
    },
    {
     "data": {
      "image/png": "[encoded data removed]",
      "text/plain": [
       "<Figure size 432x288 with 1 Axes>"
      ]
     },
     "metadata": {
      "needs_background": "light"
     },
     "output_type": "display_data"
    }
   ],
   "source": [
    "plt.plot(y_test,color=\"blue\")\n",
    "plt.plot(y_pred,color=\"red\")"
   ]
  },
  {
   "cell_type": "code",
   "execution_count": null,
   "id": "8c4fd331",
   "metadata": {},
   "outputs": [],
   "source": []
  },
  {
   "cell_type": "code",
   "execution_count": 25,
   "id": "32ff6f8d",
   "metadata": {},
   "outputs": [],
   "source": [
    "a=[[66.12,114.15,23.12,27.52,18.35,34.54,0.6,7.13,30.45,0.25,1.38,0.13]]\n",
    "arr = np.array(a)\n",
    "prediction=model.predict(arr)"
   ]
  },
  {
   "cell_type": "code",
   "execution_count": 26,
   "id": "593fc344",
   "metadata": {},
   "outputs": [
    {
     "data": {
      "text/plain": [
       "array([143.93112879])"
      ]
     },
     "execution_count": 26,
     "metadata": {},
     "output_type": "execute_result"
    }
   ],
   "source": [
    "prediction"
   ]
  },
  {
   "cell_type": "code",
   "execution_count": 27,
   "id": "29463a73",
   "metadata": {},
   "outputs": [
    {
     "data": {
      "text/plain": [
       "0.9159706972434531"
      ]
     },
     "execution_count": 27,
     "metadata": {},
     "output_type": "execute_result"
    }
   ],
   "source": [
    "model.score(x,y)"
   ]
  },
  {
   "cell_type": "code",
   "execution_count": 29,
   "id": "f4fa73d9",
   "metadata": {},
   "outputs": [
    {
     "data": {
      "text/plain": [
       "0.9468491946791753"
      ]
     },
     "execution_count": 29,
     "metadata": {},
     "output_type": "execute_result"
    }
   ],
   "source": [
    "r2_score(y_test,y_pred)"
   ]
  },
  {
   "cell_type": "code",
   "execution_count": null,
   "id": "fd6c5600",
   "metadata": {},
   "outputs": [],
   "source": []
  }
 ],
 "metadata": {
  "kernelspec": {
   "display_name": "Python 3 (ipykernel)",
   "language": "python",
   "name": "python3"
  },
  "language_info": {
   "codemirror_mode": {
    "name": "ipython",
    "version": 3
   },
   "file_extension": ".py",
   "mimetype": "text/x-python",
   "name": "python",
   "nbconvert_exporter": "python",
   "pygments_lexer": "ipython3",
   "version": "3.9.7"
  },
  "papermill": {
   "default_parameters": {},
   "duration": 254.938724,
   "end_time": "2022-03-31T11:23:17.730970",
   "environment_variables": {},
   "exception": null,
   "input_path": "__notebook__.ipynb",
   "output_path": "__notebook__.ipynb",
   "parameters": {},
   "start_time": "2022-03-31T11:19:02.792246",
   "version": "2.3.3"
  }
 },
 "nbformat": 4,
 "nbformat_minor": 5
}
